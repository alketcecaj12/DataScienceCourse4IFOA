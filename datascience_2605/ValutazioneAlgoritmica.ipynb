{
 "cells": [
  {
   "cell_type": "markdown",
   "metadata": {},
   "source": [
    "#### Imporatre tutte le librerie che servono per la previsione i.e : tensorflow, pillow: PIL, numpy"
   ]
  },
  {
   "cell_type": "code",
   "execution_count": 1,
   "metadata": {},
   "outputs": [],
   "source": [
    "import os\n",
    "import tensorflow.keras\n",
    "from PIL import Image, ImageOps\n",
    "import numpy as np"
   ]
  },
  {
   "cell_type": "markdown",
   "metadata": {},
   "source": [
    "#### Caricare il modello (rete neurale in tensorflow) che abbiamo allenato in TM."
   ]
  },
  {
   "cell_type": "code",
   "execution_count": 3,
   "metadata": {},
   "outputs": [
    {
     "name": "stdout",
     "output_type": "stream",
     "text": [
      "WARNING:tensorflow:No training configuration found in the save file, so the model was *not* compiled. Compile it manually.\n"
     ]
    }
   ],
   "source": [
    "# Disable scientific notation for clarity\n",
    "np.set_printoptions(suppress=True)\n",
    "\n",
    "# Load the model\n",
    "model = tensorflow.keras.models.load_model('modello/keras_model.h5')"
   ]
  },
  {
   "cell_type": "markdown",
   "metadata": {},
   "source": [
    "#### Uso la libreria os per accedere in maniera sequanziale alle immagini"
   ]
  },
  {
   "cell_type": "code",
   "execution_count": 5,
   "metadata": {},
   "outputs": [],
   "source": [
    "cartella = \"C:/Users/alket/datascience_2605/dati/testmask/testmask/\""
   ]
  },
  {
   "cell_type": "code",
   "execution_count": 6,
   "metadata": {},
   "outputs": [],
   "source": [
    "lista_file = os.listdir(cartella)"
   ]
  },
  {
   "cell_type": "code",
   "execution_count": 9,
   "metadata": {},
   "outputs": [
    {
     "name": "stdout",
     "output_type": "stream",
     "text": [
      "C:/Users/alket/datascience_2605/dati/testmask/testmask/mask1.jpg\n",
      "mask1.jpg\n",
      "[[0.9999963  0.00000366]]\n",
      "C:/Users/alket/datascience_2605/dati/testmask/testmask/mask10.jpg\n",
      "mask10.jpg\n",
      "[[0.9999223  0.00007772]]\n",
      "C:/Users/alket/datascience_2605/dati/testmask/testmask/mask2.jpg\n",
      "mask2.jpg\n",
      "[[0.9999902  0.00000981]]\n",
      "C:/Users/alket/datascience_2605/dati/testmask/testmask/mask3.jpg\n",
      "mask3.jpg\n",
      "[[0.9999895  0.00001054]]\n",
      "C:/Users/alket/datascience_2605/dati/testmask/testmask/mask4.jpg\n",
      "mask4.jpg\n",
      "[[0.99928916 0.00071084]]\n",
      "C:/Users/alket/datascience_2605/dati/testmask/testmask/mask5.jpg\n",
      "mask5.jpg\n",
      "[[0.99929166 0.00070837]]\n",
      "C:/Users/alket/datascience_2605/dati/testmask/testmask/mask6.jpg\n",
      "mask6.jpg\n",
      "[[0.9980611  0.00193884]]\n",
      "C:/Users/alket/datascience_2605/dati/testmask/testmask/mask7.jpg\n",
      "mask7.jpg\n",
      "[[0.9999192  0.00008082]]\n",
      "C:/Users/alket/datascience_2605/dati/testmask/testmask/mask8.jpg\n",
      "mask8.jpg\n",
      "[[0.9998723  0.00012761]]\n",
      "C:/Users/alket/datascience_2605/dati/testmask/testmask/mask9.jpg\n",
      "mask9.jpg\n",
      "[[0.9999598  0.00004022]]\n",
      "C:/Users/alket/datascience_2605/dati/testmask/testmask/nomask1.jpg\n",
      "nomask1.jpg\n",
      "[[0.0121235  0.98787653]]\n",
      "C:/Users/alket/datascience_2605/dati/testmask/testmask/nomask10.jpg\n",
      "nomask10.jpg\n",
      "[[0.00379101 0.996209  ]]\n",
      "C:/Users/alket/datascience_2605/dati/testmask/testmask/nomask2.jpg\n",
      "nomask2.jpg\n",
      "[[0.00039741 0.9996026 ]]\n",
      "C:/Users/alket/datascience_2605/dati/testmask/testmask/nomask4.jpg\n",
      "nomask4.jpg\n",
      "[[0.00038716 0.99961287]]\n",
      "C:/Users/alket/datascience_2605/dati/testmask/testmask/nomask5.jpg\n",
      "nomask5.jpg\n",
      "[[0.00019567 0.9998043 ]]\n",
      "C:/Users/alket/datascience_2605/dati/testmask/testmask/nomask6.jpg\n",
      "nomask6.jpg\n",
      "[[0.00009336 0.99990666]]\n",
      "C:/Users/alket/datascience_2605/dati/testmask/testmask/nomask7.jpg\n",
      "nomask7.jpg\n",
      "[[0.00000515 0.9999949 ]]\n",
      "C:/Users/alket/datascience_2605/dati/testmask/testmask/nomask8.jpg\n",
      "nomask8.jpg\n",
      "[[0.00005336 0.9999466 ]]\n",
      "C:/Users/alket/datascience_2605/dati/testmask/testmask/nomask9.jpg\n",
      "nomask9.jpg\n",
      "[[0.00013705 0.9998629 ]]\n"
     ]
    }
   ],
   "source": [
    "for i in lista_file: \n",
    "    print('C:/Users/alket/datascience_2605/dati/testmask/testmask/'+str(i))\n",
    "    data = np.ndarray(shape=(1, 224, 224, 3), dtype=np.float32)\n",
    "\n",
    "    # Replace this with the path to your image\n",
    "    image = Image.open('C:/Users/alket/datascience_2605/dati/testmask/testmask/'+str(i))\n",
    "    #resize the image to a 224x224 with the same strategy as in TM2:\n",
    "    #resizing the image to be at least 224x224 and then cropping from the center\n",
    "    size = (224, 224)\n",
    "    image = ImageOps.fit(image, size, Image.ANTIALIAS)\n",
    "\n",
    "    #turn the image into a numpy array\n",
    "    image_array = np.asarray(image)\n",
    "\n",
    "    # display the resized image\n",
    "    # image.show()\n",
    "\n",
    "    # Normalize the image\n",
    "    normalized_image_array = (image_array.astype(np.float32) / 127.0) - 1\n",
    "\n",
    "    # Load the image into the array\n",
    "    data[0] = normalized_image_array\n",
    "    \n",
    "    # run the inference\n",
    "    prediction = model.predict(data)\n",
    "    print(i)\n",
    "    print(prediction)\n",
    "\n",
    "    #0 Mask\n",
    "    #1 NoMask\n",
    "    #  Mask       NoMask"
   ]
  },
  {
   "cell_type": "code",
   "execution_count": null,
   "metadata": {},
   "outputs": [],
   "source": []
  }
 ],
 "metadata": {
  "kernelspec": {
   "display_name": "Python 3",
   "language": "python",
   "name": "python3"
  },
  "language_info": {
   "codemirror_mode": {
    "name": "ipython",
    "version": 3
   },
   "file_extension": ".py",
   "mimetype": "text/x-python",
   "name": "python",
   "nbconvert_exporter": "python",
   "pygments_lexer": "ipython3",
   "version": "3.8.3"
  }
 },
 "nbformat": 4,
 "nbformat_minor": 4
}
