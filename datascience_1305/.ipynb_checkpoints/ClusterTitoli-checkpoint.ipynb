{
 "cells": [
  {
   "cell_type": "code",
   "execution_count": 7,
   "metadata": {},
   "outputs": [],
   "source": [
    "import pandas as pd\n",
    "from sklearn.cluster import KMeans\n",
    "from sklearn.preprocessing import Normalizer\n",
    "from sklearn.pipeline import make_pipeline"
   ]
  },
  {
   "cell_type": "code",
   "execution_count": 8,
   "metadata": {},
   "outputs": [],
   "source": [
    "stock_data = pd.read_csv(\"dati/company-stock-movements-2010-2015-incl.csv\")"
   ]
  },
  {
   "cell_type": "code",
   "execution_count": 9,
   "metadata": {},
   "outputs": [
    {
     "data": {
      "text/plain": [
       "(60, 964)"
      ]
     },
     "execution_count": 9,
     "metadata": {},
     "output_type": "execute_result"
    }
   ],
   "source": [
    "stock_data.shape"
   ]
  },
  {
   "cell_type": "code",
   "execution_count": 10,
   "metadata": {},
   "outputs": [],
   "source": [
    "samples = stock_data.iloc[:, 1:].values\n",
    "comp = stock_data.iloc[:, 0].tolist()"
   ]
  },
  {
   "cell_type": "code",
   "execution_count": 12,
   "metadata": {},
   "outputs": [
    {
     "data": {
      "text/plain": [
       "Pipeline(steps=[('normalizer', Normalizer()),\n",
       "                ('kmeans', KMeans(n_clusters=10))])"
      ]
     },
     "execution_count": 12,
     "metadata": {},
     "output_type": "execute_result"
    }
   ],
   "source": [
    "normalizer = Normalizer()\n",
    "model = KMeans(n_clusters=10)\n",
    "\n",
    "pipe = make_pipeline(normalizer, model)\n",
    "pipe.fit(samples)"
   ]
  },
  {
   "cell_type": "code",
   "execution_count": 13,
   "metadata": {},
   "outputs": [],
   "source": [
    "labels = pipe.predict(samples)"
   ]
  },
  {
   "cell_type": "code",
   "execution_count": 14,
   "metadata": {},
   "outputs": [],
   "source": [
    "df = pd.DataFrame({\"labels\":labels, \"companies\":comp})"
   ]
  },
  {
   "cell_type": "code",
   "execution_count": 15,
   "metadata": {},
   "outputs": [],
   "source": [
    "ct = pd.crosstab(df[\"labels\"], df[\"companies\"])"
   ]
  },
  {
   "cell_type": "code",
   "execution_count": 16,
   "metadata": {},
   "outputs": [
    {
     "name": "stdout",
     "output_type": "stream",
     "text": [
      "companies  3M  AIG  Amazon  American express  Apple  Bank of America  Boeing  \\\n",
      "labels                                                                         \n",
      "0           0    0       0                 0      0                0       0   \n",
      "1           0    0       0                 0      0                0       0   \n",
      "2           0    0       0                 0      0                0       0   \n",
      "3           0    0       0                 0      0                0       0   \n",
      "4           0    1       0                 1      0                1       0   \n",
      "5           0    0       1                 0      1                0       0   \n",
      "6           0    0       0                 0      0                0       0   \n",
      "7           1    0       0                 0      0                0       0   \n",
      "8           0    0       0                 0      0                0       0   \n",
      "9           0    0       0                 0      0                0       1   \n",
      "\n",
      "companies  British American Tobacco  Canon  Caterpillar  ...  \\\n",
      "labels                                                   ...   \n",
      "0                                 0      0            0  ...   \n",
      "1                                 0      0            1  ...   \n",
      "2                                 0      1            0  ...   \n",
      "3                                 0      0            0  ...   \n",
      "4                                 0      0            0  ...   \n",
      "5                                 0      0            0  ...   \n",
      "6                                 1      0            0  ...   \n",
      "7                                 0      0            0  ...   \n",
      "8                                 0      0            0  ...   \n",
      "9                                 0      0            0  ...   \n",
      "\n",
      "companies  Texas instruments  Total  Toyota  Unilever  Valero Energy  \\\n",
      "labels                                                                 \n",
      "0                          0      0       0         0              0   \n",
      "1                          0      0       0         0              0   \n",
      "2                          1      0       1         0              0   \n",
      "3                          0      0       0         0              0   \n",
      "4                          0      0       0         0              0   \n",
      "5                          0      0       0         0              0   \n",
      "6                          0      1       0         1              0   \n",
      "7                          0      0       0         0              1   \n",
      "8                          0      0       0         0              0   \n",
      "9                          0      0       0         0              0   \n",
      "\n",
      "companies  Wal-Mart  Walgreen  Wells Fargo  Xerox  Yahoo  \n",
      "labels                                                    \n",
      "0                 1         0            0      0      0  \n",
      "1                 0         0            0      0      0  \n",
      "2                 0         0            0      1      1  \n",
      "3                 0         0            0      0      0  \n",
      "4                 0         0            1      0      0  \n",
      "5                 0         0            0      0      0  \n",
      "6                 0         0            0      0      0  \n",
      "7                 0         0            0      0      0  \n",
      "8                 0         0            0      0      0  \n",
      "9                 0         1            0      0      0  \n",
      "\n",
      "[10 rows x 60 columns]\n"
     ]
    }
   ],
   "source": [
    "print(ct)"
   ]
  },
  {
   "cell_type": "code",
   "execution_count": null,
   "metadata": {},
   "outputs": [],
   "source": []
  }
 ],
 "metadata": {
  "kernelspec": {
   "display_name": "Python 3",
   "language": "python",
   "name": "python3"
  },
  "language_info": {
   "codemirror_mode": {
    "name": "ipython",
    "version": 3
   },
   "file_extension": ".py",
   "mimetype": "text/x-python",
   "name": "python",
   "nbconvert_exporter": "python",
   "pygments_lexer": "ipython3",
   "version": "3.8.3"
  }
 },
 "nbformat": 4,
 "nbformat_minor": 4
}
