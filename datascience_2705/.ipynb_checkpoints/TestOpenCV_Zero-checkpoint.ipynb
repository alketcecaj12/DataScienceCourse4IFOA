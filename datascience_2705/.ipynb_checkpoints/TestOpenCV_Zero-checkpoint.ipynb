{
 "cells": [
  {
   "cell_type": "code",
   "execution_count": 1,
   "id": "67ebc23e",
   "metadata": {},
   "outputs": [],
   "source": [
    "import cv2\n",
    "import numpy as np \n",
    "import matplotlib.pyplot as plt "
   ]
  },
  {
   "cell_type": "code",
   "execution_count": 15,
   "id": "671b2465",
   "metadata": {},
   "outputs": [
    {
     "name": "stdout",
     "output_type": "stream",
     "text": [
      "OK, immagine letta correttamente!\n"
     ]
    }
   ],
   "source": [
    "zero = cv2.imread(\"img_processing/number_zero.jpg\", 0)\n",
    "if type(zero) == np.ndarray: \n",
    "    print(\"OK, immagine letta correttamente!\")\n",
    "else: \n",
    "    print(\"Lettura problematica!\")"
   ]
  },
  {
   "cell_type": "code",
   "execution_count": 16,
   "id": "c1b1e524",
   "metadata": {},
   "outputs": [
    {
     "data": {
      "text/plain": [
       "2"
      ]
     },
     "execution_count": 16,
     "metadata": {},
     "output_type": "execute_result"
    }
   ],
   "source": [
    "zero.ndim"
   ]
  },
  {
   "cell_type": "code",
   "execution_count": 17,
   "id": "ef3e3d1c",
   "metadata": {},
   "outputs": [
    {
     "data": {
      "text/plain": [
       "(13, 11)"
      ]
     },
     "execution_count": 17,
     "metadata": {},
     "output_type": "execute_result"
    }
   ],
   "source": [
    "zero.shape"
   ]
  },
  {
   "cell_type": "code",
   "execution_count": 18,
   "id": "ce39cf34",
   "metadata": {},
   "outputs": [
    {
     "data": {
      "image/png": "[encoded data removed]",
      "text/plain": [
       "<Figure size 432x288 with 1 Axes>"
      ]
     },
     "metadata": {
      "needs_background": "light"
     },
     "output_type": "display_data"
    }
   ],
   "source": [
    "plt.imshow(zero, cmap = \"gray\")\n",
    "plt.show()"
   ]
  },
  {
   "cell_type": "code",
   "execution_count": 19,
   "id": "4b59883b",
   "metadata": {},
   "outputs": [
    {
     "data": {
      "text/plain": [
       "array([[  1,   0,   3,   0,   3,   0,   3,   2,   4,   2,   0],\n",
       "       [  0,   1,   0,   3,   3, 253, 253,   0,   0,   2,   1],\n",
       "       [  0,   0,   8,   0, 249, 255, 255, 253,  71,   1,   5],\n",
       "       [  3,   0,   2, 251, 255,   2,   0, 253, 254,   0,   2],\n",
       "       [  1,   5,   0, 252,   4,   0,   3,   0, 255,   4,   0],\n",
       "       [  0,   0,   2, 255,   0,   0,   0,   3, 253,   0,   4],\n",
       "       [  0,   5,   4, 249,   4,   2,   0,   0, 255,   1,   0],\n",
       "       [  2,   0,   0, 255,   3,   0,   5,   0, 254,   0,   4],\n",
       "       [  0,   0,   0, 255,   1,   0,   0,   3, 255,   0,   0],\n",
       "       [  1,   5,   0, 252,   2,   2,   2,  76, 250,   7,   0],\n",
       "       [  0,   0,   5,   0, 254,   0,   0, 255, 254,   0,   1],\n",
       "       [  0,   8,   0,   3, 253, 253, 255, 250,   1,   2,   1],\n",
       "       [  2,   0,   0,   0,   5,   0,   4,   1,   3,   0,   0]],\n",
       "      dtype=uint8)"
      ]
     },
     "execution_count": 19,
     "metadata": {},
     "output_type": "execute_result"
    }
   ],
   "source": [
    "zero"
   ]
  },
  {
   "cell_type": "code",
   "execution_count": 23,
   "id": "eaf6c8e2",
   "metadata": {},
   "outputs": [],
   "source": [
    "zero[0][0] = 255"
   ]
  },
  {
   "cell_type": "code",
   "execution_count": 24,
   "id": "3f7d39de",
   "metadata": {},
   "outputs": [
    {
     "data": {
      "text/plain": [
       "array([[255,   0,   3,   0,   3,   0,   3,   2,   4,   2,   0],\n",
       "       [  0,   1,   0,   3,   3, 253, 253,   0,   0,   2,   1],\n",
       "       [  0,   0,   8,   0, 249, 255, 255, 253,  71,   1,   5],\n",
       "       [  3,   0,   2, 251, 255,   2,   0, 253, 254,   0,   2],\n",
       "       [  1,   5,   0, 252,   4,   0,   3,   0, 255,   4,   0],\n",
       "       [  0,   0,   2, 255,   0,   0,   0,   3, 253,   0,   4],\n",
       "       [  0,   5,   4, 249,   4,   2,   0,   0, 255,   1,   0],\n",
       "       [  2,   0,   0, 255,   3,   0,   5,   0, 254,   0,   4],\n",
       "       [  0,   0,   0, 255,   1,   0,   0,   3, 255,   0,   0],\n",
       "       [  1,   5,   0, 252,   2,   2,   2,  76, 250,   7,   0],\n",
       "       [  0,   0,   5,   0, 254,   0,   0, 255, 254,   0,   1],\n",
       "       [  0,   8,   0,   3, 253, 253, 255, 250,   1,   2,   1],\n",
       "       [  2,   0,   0,   0,   5,   0,   4,   1,   3,   0,   0]],\n",
       "      dtype=uint8)"
      ]
     },
     "execution_count": 24,
     "metadata": {},
     "output_type": "execute_result"
    }
   ],
   "source": [
    "zero"
   ]
  },
  {
   "cell_type": "code",
   "execution_count": 25,
   "id": "9672e8cb",
   "metadata": {},
   "outputs": [
    {
     "data": {
      "text/plain": [
       "<matplotlib.image.AxesImage at 0x20bd0d7e080>"
      ]
     },
     "execution_count": 25,
     "metadata": {},
     "output_type": "execute_result"
    },
    {
     "data": {
      "image/png": "[encoded data removed]",
      "text/plain": [
       "<Figure size 432x288 with 1 Axes>"
      ]
     },
     "metadata": {
      "needs_background": "light"
     },
     "output_type": "display_data"
    }
   ],
   "source": [
    "plt.imshow(zero, cmap = \"gray\")"
   ]
  },
  {
   "cell_type": "code",
   "execution_count": 26,
   "id": "6919f0d4",
   "metadata": {},
   "outputs": [],
   "source": [
    "zero[3:5, 2:4] = 255"
   ]
  },
  {
   "cell_type": "code",
   "execution_count": 27,
   "id": "05248c5a",
   "metadata": {},
   "outputs": [
    {
     "data": {
      "text/plain": [
       "<matplotlib.image.AxesImage at 0x20bd0dd5e80>"
      ]
     },
     "execution_count": 27,
     "metadata": {},
     "output_type": "execute_result"
    },
    {
     "data": {
      "image/png": "[encoded data removed]",
      "text/plain": [
       "<Figure size 432x288 with 1 Axes>"
      ]
     },
     "metadata": {
      "needs_background": "light"
     },
     "output_type": "display_data"
    }
   ],
   "source": [
    "plt.imshow(zero, cmap = \"gray\")"
   ]
  },
  {
   "cell_type": "code",
   "execution_count": 29,
   "id": "f0356ad7",
   "metadata": {},
   "outputs": [
    {
     "data": {
      "text/plain": [
       "True"
      ]
     },
     "execution_count": 29,
     "metadata": {},
     "output_type": "execute_result"
    }
   ],
   "source": [
    "cv2.imwrite(\"zero_modificato.jpg\", zero)"
   ]
  },
  {
   "cell_type": "code",
   "execution_count": 31,
   "id": "66c8101b",
   "metadata": {},
   "outputs": [
    {
     "data": {
      "text/plain": [
       "True"
      ]
     },
     "execution_count": 31,
     "metadata": {},
     "output_type": "execute_result"
    }
   ],
   "source": [
    "cv2.imwrite(\"img_processing/zero_modificato.png\", zero)"
   ]
  },
  {
   "cell_type": "code",
   "execution_count": 32,
   "id": "acfb24e5",
   "metadata": {},
   "outputs": [],
   "source": [
    "imgpng= cv2.imread(\"img_processing/zero_modificato.png\", 0)"
   ]
  },
  {
   "cell_type": "code",
   "execution_count": 33,
   "id": "0ab65a89",
   "metadata": {},
   "outputs": [
    {
     "data": {
      "text/plain": [
       "array([[255,   0,   3,   0,   3,   0,   3,   2,   4,   2,   0],\n",
       "       [  0,   1,   0,   3,   3, 253, 253,   0,   0,   2,   1],\n",
       "       [  0,   0,   8,   0, 249, 255, 255, 253,  71,   1,   5],\n",
       "       [  3,   0, 255, 255, 255,   2,   0, 253, 254,   0,   2],\n",
       "       [  1,   5, 255, 255,   4,   0,   3,   0, 255,   4,   0],\n",
       "       [  0,   0,   2, 255,   0,   0,   0,   3, 253,   0,   4],\n",
       "       [  0,   5,   4, 249,   4,   2,   0,   0, 255,   1,   0],\n",
       "       [  2,   0,   0, 255,   3,   0,   5,   0, 254,   0,   4],\n",
       "       [  0,   0,   0, 255,   1,   0,   0,   3, 255,   0,   0],\n",
       "       [  1,   5,   0, 252,   2,   2,   2,  76, 250,   7,   0],\n",
       "       [  0,   0,   5,   0, 254,   0,   0, 255, 254,   0,   1],\n",
       "       [  0,   8,   0,   3, 253, 253, 255, 250,   1,   2,   1],\n",
       "       [  2,   0,   0,   0,   5,   0,   4,   1,   3,   0,   0]],\n",
       "      dtype=uint8)"
      ]
     },
     "execution_count": 33,
     "metadata": {},
     "output_type": "execute_result"
    }
   ],
   "source": [
    "imgpng"
   ]
  },
  {
   "cell_type": "code",
   "execution_count": 34,
   "id": "50857e6b",
   "metadata": {},
   "outputs": [
    {
     "data": {
      "text/plain": [
       "<matplotlib.image.AxesImage at 0x20bd0cb52e8>"
      ]
     },
     "execution_count": 34,
     "metadata": {},
     "output_type": "execute_result"
    },
    {
     "data": {
      "image/png": "[encoded data removed]",
      "text/plain": [
       "<Figure size 432x288 with 1 Axes>"
      ]
     },
     "metadata": {
      "needs_background": "light"
     },
     "output_type": "display_data"
    }
   ],
   "source": [
    "plt.imshow(imgpng, cmap = \"gray\")"
   ]
  },
  {
   "cell_type": "code",
   "execution_count": null,
   "id": "8f24aca5",
   "metadata": {},
   "outputs": [],
   "source": []
  }
 ],
 "metadata": {
  "kernelspec": {
   "display_name": "Python 3",
   "language": "python",
   "name": "python3"
  },
  "language_info": {
   "codemirror_mode": {
    "name": "ipython",
    "version": 3
   },
   "file_extension": ".py",
   "mimetype": "text/x-python",
   "name": "python",
   "nbconvert_exporter": "python",
   "pygments_lexer": "ipython3",
   "version": "3.6.6"
  }
 },
 "nbformat": 4,
 "nbformat_minor": 5
}
