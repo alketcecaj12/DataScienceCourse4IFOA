{
 "cells": [
  {
   "cell_type": "code",
   "execution_count": 6,
   "metadata": {},
   "outputs": [],
   "source": [
    "import pandas as pd\n",
    "import matplotlib.pyplot as plt \n",
    "from sklearn.cluster import KMeans"
   ]
  },
  {
   "cell_type": "code",
   "execution_count": 3,
   "metadata": {},
   "outputs": [],
   "source": [
    "dati = pd.read_csv(\"dati/points.csv\")"
   ]
  },
  {
   "cell_type": "code",
   "execution_count": 4,
   "metadata": {},
   "outputs": [],
   "source": [
    "points = dati.values"
   ]
  },
  {
   "cell_type": "code",
   "execution_count": 5,
   "metadata": {},
   "outputs": [
    {
     "data": {
      "text/plain": [
       "numpy.ndarray"
      ]
     },
     "execution_count": 5,
     "metadata": {},
     "output_type": "execute_result"
    }
   ],
   "source": [
    "type(points)"
   ]
  },
  {
   "cell_type": "code",
   "execution_count": 21,
   "metadata": {},
   "outputs": [],
   "source": [
    "model = KMeans(n_clusters = 3)"
   ]
  },
  {
   "cell_type": "code",
   "execution_count": 22,
   "metadata": {},
   "outputs": [
    {
     "data": {
      "text/plain": [
       "KMeans(n_clusters=3)"
      ]
     },
     "execution_count": 22,
     "metadata": {},
     "output_type": "execute_result"
    }
   ],
   "source": [
    "model.fit(points)"
   ]
  },
  {
   "cell_type": "code",
   "execution_count": 23,
   "metadata": {},
   "outputs": [
    {
     "data": {
      "text/plain": [
       "51.268699952546335"
      ]
     },
     "execution_count": 23,
     "metadata": {},
     "output_type": "execute_result"
    }
   ],
   "source": [
    "model.inertia_"
   ]
  },
  {
   "cell_type": "code",
   "execution_count": 16,
   "metadata": {},
   "outputs": [
    {
     "name": "stderr",
     "output_type": "stream",
     "text": [
      "C:\\Users\\alket\\anaconda3\\lib\\site-packages\\sklearn\\cluster\\_kmeans.py:881: UserWarning: KMeans is known to have a memory leak on Windows with MKL, when there are less chunks than available threads. You can avoid it by setting the environment variable OMP_NUM_THREADS=2.\n",
      "  warnings.warn(\n"
     ]
    }
   ],
   "source": [
    "ks = range(1, 8)\n",
    "in_s = []\n",
    "for i in ks: \n",
    "    model = KMeans(n_clusters=i)\n",
    "    model.fit(points)\n",
    "    \n",
    "    in_i = model.inertia_\n",
    "    in_s.append(in_i)\n",
    "    "
   ]
  },
  {
   "cell_type": "code",
   "execution_count": 17,
   "metadata": {},
   "outputs": [
    {
     "data": {
      "text/plain": [
       "[550.8660052037047,\n",
       " 226.6264770455212,\n",
       " 51.268699952546335,\n",
       " 44.38873051203199,\n",
       " 38.49879446816041,\n",
       " 32.89624388837412,\n",
       " 29.117187672885]"
      ]
     },
     "execution_count": 17,
     "metadata": {},
     "output_type": "execute_result"
    }
   ],
   "source": [
    "in_s"
   ]
  },
  {
   "cell_type": "code",
   "execution_count": 18,
   "metadata": {},
   "outputs": [
    {
     "data": {
      "image/png": "[encoded data removed]",
      "text/plain": [
       "<Figure size 432x288 with 1 Axes>"
      ]
     },
     "metadata": {
      "needs_background": "light"
     },
     "output_type": "display_data"
    }
   ],
   "source": [
    "plt.plot(ks, in_s, '-o')\n",
    "plt.xlabel(\"numero dei cluster, k\")\n",
    "plt.ylabel(\"Errore inertia_\")\n",
    "plt.show()"
   ]
  },
  {
   "cell_type": "code",
   "execution_count": 19,
   "metadata": {},
   "outputs": [],
   "source": [
    "dati2 = pd.read_csv(\"dati/new_points.csv\")"
   ]
  },
  {
   "cell_type": "code",
   "execution_count": 20,
   "metadata": {},
   "outputs": [],
   "source": [
    "new_points = dati2.values"
   ]
  },
  {
   "cell_type": "code",
   "execution_count": 26,
   "metadata": {},
   "outputs": [
    {
     "data": {
      "text/plain": [
       "array([[ 4.00233332e-01, -1.26544471e+00],\n",
       "       [ 8.03230370e-01,  1.28260167e+00],\n",
       "       [-1.39507552e+00,  5.57292921e-02],\n",
       "       [-3.41192677e-01, -1.07661994e+00],\n",
       "       [ 1.54781747e+00,  1.40250049e+00],\n",
       "       [ 2.45032018e-01, -4.83442328e-01],\n",
       "       [ 1.20706886e+00,  8.88752605e-01],\n",
       "       [ 1.25132628e+00,  1.15555395e+00],\n",
       "       [ 1.81004415e+00,  9.65530731e-01],\n",
       "       [-1.66963401e+00, -3.08103509e-01],\n",
       "       [-7.17482105e-02, -9.37939700e-01],\n",
       "       [ 6.82631927e-01,  1.10258160e+00],\n",
       "       [ 1.09039598e+00,  1.43899529e+00],\n",
       "       [-1.67645414e+00, -5.04557049e-01],\n",
       "       [-1.84447804e+00,  4.52539544e-02],\n",
       "       [ 1.24234851e+00,  1.02088661e+00],\n",
       "       [-1.86147041e+00,  6.38645811e-03],\n",
       "       [-1.46044943e+00,  1.53252383e-01],\n",
       "       [ 4.98981817e-01,  8.98006058e-01],\n",
       "       [ 9.83962244e-01,  1.04369375e+00],\n",
       "       [-1.83136742e+00, -1.63632835e-01],\n",
       "       [ 1.30622617e+00,  1.07658717e+00],\n",
       "       [ 3.53420328e-01, -7.51320218e-01],\n",
       "       [ 1.13957970e+00,  1.54503860e+00],\n",
       "       [ 2.93995694e-01, -1.26135005e+00],\n",
       "       [-1.14558225e+00, -3.78709636e-02],\n",
       "       [ 1.18716105e+00,  6.00240663e-01],\n",
       "       [-2.23211946e+00,  2.30475094e-01],\n",
       "       [-1.28320430e+00, -3.93314568e-01],\n",
       "       [ 4.94296696e-01, -8.83972009e-01],\n",
       "       [ 6.31834930e-02, -9.11952228e-01],\n",
       "       [ 9.35759539e-01,  8.66820685e-01],\n",
       "       [ 1.58014721e+00,  1.03788392e+00],\n",
       "       [ 1.06304960e+00,  1.02706082e+00],\n",
       "       [-1.39732536e+00, -5.05162249e-01],\n",
       "       [-1.09935240e-01, -9.08113619e-01],\n",
       "       [ 1.17346758e+00,  9.47501092e-01],\n",
       "       [ 9.20084511e-01,  1.45767672e+00],\n",
       "       [ 5.82658956e-01, -9.00086832e-01],\n",
       "       [ 9.52772328e-01,  8.99042386e-01],\n",
       "       [-1.37266956e+00, -3.17878215e-02],\n",
       "       [ 2.12706760e-02, -7.07614194e-01],\n",
       "       [ 3.27049052e-01, -5.55998107e-01],\n",
       "       [-1.71590267e+00,  2.15222266e-01],\n",
       "       [ 5.12516209e-01, -7.60128245e-01],\n",
       "       [ 1.13023469e+00,  7.22451122e-01],\n",
       "       [-1.43074310e+00, -3.42787511e-01],\n",
       "       [-1.82724625e+00,  1.17657775e-01],\n",
       "       [ 1.41801350e+00,  1.11455080e+00],\n",
       "       [ 1.26897304e+00,  1.41925971e+00],\n",
       "       [ 8.04076494e-01,  1.63988557e+00],\n",
       "       [ 8.34567752e-01,  1.09956689e+00],\n",
       "       [-1.24714732e+00, -2.23522320e-01],\n",
       "       [-1.29422537e+00,  8.18770024e-02],\n",
       "       [-2.27378316e-01, -4.13331387e-01],\n",
       "       [ 2.18830387e-01, -4.68183120e-01],\n",
       "       [-1.22593414e+00,  2.55599147e-01],\n",
       "       [-1.31294033e+00, -4.28892070e-01],\n",
       "       [-1.33532382e+00,  6.52053776e-01],\n",
       "       [-3.01100233e-01, -1.25156451e+00],\n",
       "       [ 2.02778356e-01, -9.05277445e-01],\n",
       "       [ 1.01357784e+00,  1.12378981e+00],\n",
       "       [ 8.18324394e-01,  8.60841257e-01],\n",
       "       [ 1.26181556e+00,  1.46613744e+00],\n",
       "       [ 4.64867724e-01, -7.97212459e-01],\n",
       "       [ 3.60908898e-01,  8.44106720e-01],\n",
       "       [-2.15098310e+00, -3.69583937e-01],\n",
       "       [ 1.05005281e+00,  8.74181364e-01],\n",
       "       [ 1.06580074e-01, -7.49268153e-01],\n",
       "       [-1.73945723e+00,  2.52183577e-01],\n",
       "       [-1.12017687e-01, -6.52469788e-01],\n",
       "       [ 5.16618951e-01, -6.41267582e-01],\n",
       "       [ 3.26621787e-01, -8.80608015e-01],\n",
       "       [ 1.09017759e+00,  1.10952558e+00],\n",
       "       [ 3.64459576e-01, -6.94215622e-01],\n",
       "       [-1.90779318e+00,  1.87383674e-01],\n",
       "       [-1.95601829e+00,  1.39959126e-01],\n",
       "       [ 3.18541701e-01, -4.05271704e-01],\n",
       "       [ 7.36512699e-01,  1.76416255e+00],\n",
       "       [-1.44175162e+00, -5.72320429e-02],\n",
       "       [ 3.21757168e-01, -5.34283821e-01],\n",
       "       [-1.37317305e+00,  4.64484644e-02],\n",
       "       [ 6.87225910e-02, -1.10522944e+00],\n",
       "       [ 9.59314218e-01,  6.52316210e-01],\n",
       "       [-1.62641919e+00, -5.62423280e-01],\n",
       "       [ 1.06788305e+00,  7.29260482e-01],\n",
       "       [-1.79643547e+00, -9.88307418e-01],\n",
       "       [-9.88628377e-02, -6.81198092e-02],\n",
       "       [-1.05135700e-01,  1.17022143e+00],\n",
       "       [ 8.79964699e-01,  1.25340317e+00],\n",
       "       [ 9.80753407e-01,  1.15486539e+00],\n",
       "       [-8.33224966e-02, -9.24844368e-01],\n",
       "       [ 8.48759673e-01,  1.09397425e+00],\n",
       "       [ 1.32941649e+00,  1.13734563e+00],\n",
       "       [ 3.23788068e-01, -7.49732451e-01],\n",
       "       [-1.52610970e+00, -2.49016929e-01],\n",
       "       [-1.48598116e+00, -2.68828608e-01],\n",
       "       [-1.80479553e+00,  1.87052700e-01],\n",
       "       [-2.01907347e+00, -4.49511651e-01],\n",
       "       [ 2.87202402e-01, -6.55487415e-01],\n",
       "       [ 8.22295102e-01,  1.38443234e+00],\n",
       "       [-3.56997036e-02, -8.01825807e-01],\n",
       "       [-1.66955440e+00, -1.38258505e-01],\n",
       "       [-1.78226821e+00,  2.93353033e-01],\n",
       "       [ 7.25837138e-01, -6.23374024e-01],\n",
       "       [ 3.88432593e-01, -7.61283497e-01],\n",
       "       [ 1.49002783e+00,  7.95678671e-01],\n",
       "       [ 6.55423228e-04, -7.40580702e-01],\n",
       "       [-1.34533116e+00, -4.75629937e-01],\n",
       "       [-8.03845106e-01, -3.09943013e-01],\n",
       "       [-2.49041295e-01, -1.00662418e+00],\n",
       "       [-1.41095118e+00, -7.06744127e-02],\n",
       "       [-1.75119594e+00, -3.00491336e-01],\n",
       "       [-1.27942724e+00,  1.73774600e-01],\n",
       "       [ 3.35028183e-01,  6.24761151e-01],\n",
       "       [ 1.16819649e+00,  1.18902251e+00],\n",
       "       [ 7.15210457e-01,  9.26077419e-01],\n",
       "       [ 1.30057278e+00,  9.16349565e-01],\n",
       "       [-1.21697008e+00,  1.10039477e-01],\n",
       "       [-1.70707935e+00, -5.99659536e-02],\n",
       "       [ 1.20730655e+00,  1.05480463e+00],\n",
       "       [ 1.86896009e-01, -9.58047234e-01],\n",
       "       [ 8.03463471e-01,  3.86133140e-01],\n",
       "       [-1.73486790e+00, -1.49831913e-01],\n",
       "       [ 1.31261499e+00,  1.11802982e+00],\n",
       "       [ 4.04993148e-01, -5.10900347e-01],\n",
       "       [-1.93267968e+00,  2.20764694e-01],\n",
       "       [ 6.56004799e-01,  9.61887161e-01],\n",
       "       [-1.40588215e+00,  1.17134403e-01],\n",
       "       [-1.74306264e+00, -7.47473959e-02],\n",
       "       [ 5.43745412e-01,  1.47209224e+00],\n",
       "       [-1.97331669e+00, -2.27124493e-01],\n",
       "       [ 1.53901171e+00,  1.36049081e+00],\n",
       "       [-1.48323452e+00, -4.90302063e-01],\n",
       "       [ 3.86748484e-01, -1.26173400e+00],\n",
       "       [ 1.17015716e+00,  1.18549415e+00],\n",
       "       [-8.05381721e-02, -3.21923627e-01],\n",
       "       [-6.82273156e-02, -8.52825887e-01],\n",
       "       [ 7.13500028e-01,  1.27868520e+00],\n",
       "       [-1.85014378e+00, -5.03490558e-01],\n",
       "       [ 6.36085266e-02, -1.41257040e+00],\n",
       "       [ 1.52966062e+00,  9.66056572e-01],\n",
       "       [ 1.62165714e-01, -1.37374843e+00],\n",
       "       [-3.23474497e-01, -7.06620269e-01],\n",
       "       [-1.51768993e+00,  1.87658302e-01],\n",
       "       [ 8.88895911e-01,  7.62237161e-01],\n",
       "       [ 4.83164032e-01,  8.81931869e-01],\n",
       "       [-5.52997766e-02, -7.11305016e-01],\n",
       "       [-1.57966441e+00, -6.29220313e-01],\n",
       "       [ 5.51308645e-02, -8.47206763e-01],\n",
       "       [-2.06001582e+00,  5.87697787e-02],\n",
       "       [ 1.11810855e+00,  1.30254175e+00],\n",
       "       [ 4.87016164e-01, -9.90143937e-01],\n",
       "       [-1.65518042e+00, -1.69386383e-01],\n",
       "       [-1.44349738e+00,  1.90299243e-01],\n",
       "       [-1.70074547e-01, -8.26736022e-01],\n",
       "       [-1.82433979e+00, -3.07814626e-01],\n",
       "       [ 1.03093485e+00,  1.26457691e+00],\n",
       "       [ 1.64431169e+00,  1.27773115e+00],\n",
       "       [-1.47617693e+00,  2.60783872e-02],\n",
       "       [ 1.00953067e+00,  1.14270181e+00],\n",
       "       [-1.45285636e+00, -2.55216207e-01],\n",
       "       [-1.74092917e+00, -8.34443177e-02],\n",
       "       [ 1.22038299e+00,  1.28699961e+00],\n",
       "       [ 9.16925397e-01,  7.32070275e-01],\n",
       "       [-1.60754185e-03, -7.26375571e-01],\n",
       "       [ 8.93841238e-01,  8.41146643e-01],\n",
       "       [ 6.33791961e-01,  1.00915134e+00],\n",
       "       [-1.47927075e+00, -6.99781936e-01],\n",
       "       [ 5.44799374e-02, -1.06441970e+00],\n",
       "       [-1.51935568e+00, -4.89276929e-01],\n",
       "       [ 2.89939026e-01, -7.73145523e-01],\n",
       "       [-9.68154061e-03, -1.13302207e+00],\n",
       "       [ 1.13474639e+00,  9.71541744e-01],\n",
       "       [ 5.36421406e-01, -8.47906388e-01],\n",
       "       [ 1.14759864e+00,  6.89915205e-01],\n",
       "       [ 5.73291902e-01,  7.90802710e-01],\n",
       "       [ 2.12377397e-01, -6.07569808e-01],\n",
       "       [ 5.26579548e-01, -8.15930264e-01],\n",
       "       [-2.01831641e+00,  6.78650740e-02],\n",
       "       [-2.35512624e-01, -1.08205132e+00],\n",
       "       [ 1.59274780e-01, -6.00717261e-01],\n",
       "       [ 2.28120356e-01, -1.16003549e+00],\n",
       "       [-1.53658378e+00,  8.40798808e-02],\n",
       "       [ 1.13954609e+00,  6.31782001e-01],\n",
       "       [ 1.01119255e+00,  1.04360805e+00],\n",
       "       [-1.42039867e-01, -4.81230337e-01],\n",
       "       [-2.23120182e+00,  8.49162905e-02],\n",
       "       [ 1.25554811e-01, -1.01794793e+00],\n",
       "       [-1.72493509e+00, -6.94426177e-01],\n",
       "       [-1.60434630e+00,  4.45550868e-01],\n",
       "       [ 7.37153979e-01,  9.26560744e-01],\n",
       "       [ 6.72905271e-01,  1.13366030e+00],\n",
       "       [ 1.20066456e+00,  7.26273093e-01],\n",
       "       [ 7.58747209e-02, -9.83378326e-01],\n",
       "       [ 1.28783262e+00,  1.18088601e+00],\n",
       "       [ 1.06521930e+00,  1.00714746e+00],\n",
       "       [ 1.05871698e+00,  1.12956519e+00],\n",
       "       [-1.12643410e+00,  1.66787744e-01],\n",
       "       [-1.10157218e+00, -3.64137806e-01],\n",
       "       [ 2.35118217e-01, -1.39769949e-01],\n",
       "       [ 1.13853795e+00,  1.01018519e+00],\n",
       "       [ 5.31205654e-01, -8.81990792e-01],\n",
       "       [ 4.33085936e-01, -7.64059042e-01],\n",
       "       [-4.48926156e-03, -1.30548411e+00],\n",
       "       [-1.76348589e+00, -4.97430739e-01],\n",
       "       [ 1.36485681e+00,  5.83404699e-01],\n",
       "       [ 5.66923900e-01,  1.51391963e+00],\n",
       "       [ 1.35736826e+00,  6.70915318e-01],\n",
       "       [ 1.07173397e+00,  6.11990884e-01],\n",
       "       [ 1.00106915e+00,  8.93815326e-01],\n",
       "       [ 1.33091007e+00,  8.79773879e-01],\n",
       "       [-1.79603740e+00, -3.53883973e-02],\n",
       "       [-1.27222979e+00,  4.00156642e-01],\n",
       "       [ 8.47480603e-01,  1.17032364e+00],\n",
       "       [-1.50989129e+00, -7.12318330e-01],\n",
       "       [-1.24953576e+00, -5.57859730e-01],\n",
       "       [-1.27717973e+00, -5.99350550e-01],\n",
       "       [-1.81946743e+00,  7.37057673e-01],\n",
       "       [ 1.19949867e+00,  1.56969386e+00],\n",
       "       [-1.25543847e+00, -2.33892826e-01],\n",
       "       [-1.63052058e+00,  1.61455865e-01],\n",
       "       [ 1.10611305e+00,  7.39698224e-01],\n",
       "       [ 6.70193192e-01,  8.70567001e-01],\n",
       "       [ 3.69670156e-01, -6.94645306e-01],\n",
       "       [-1.26362293e+00, -6.99249285e-01],\n",
       "       [-3.66687507e-01, -1.35310260e+00],\n",
       "       [ 2.44032147e-01, -6.59470793e-01],\n",
       "       [-1.27679142e+00, -4.85453412e-01],\n",
       "       [ 3.77473612e-02, -6.99251605e-01],\n",
       "       [-2.19148539e+00, -4.91199500e-01],\n",
       "       [-2.93277777e-01, -5.89488212e-01],\n",
       "       [-1.65737397e+00, -2.98337786e-01],\n",
       "       [ 7.36638861e-01,  5.78037057e-01],\n",
       "       [ 1.13709081e+00,  1.30119754e+00],\n",
       "       [-1.44146601e+00,  3.13934680e-02],\n",
       "       [ 5.92360708e-01,  1.22545114e+00],\n",
       "       [ 6.51719414e-01,  4.92674894e-01],\n",
       "       [ 5.94559139e-01,  8.25637315e-01],\n",
       "       [-1.87900722e+00, -5.21899626e-01],\n",
       "       [ 2.15225041e-01, -1.28269851e+00],\n",
       "       [ 4.99145965e-01, -6.70268634e-01],\n",
       "       [-1.82954176e+00, -3.39269731e-01],\n",
       "       [ 7.92721403e-01,  1.33785606e+00],\n",
       "       [ 9.54363372e-01,  9.80396626e-01],\n",
       "       [-1.35359846e+00,  1.03976340e-01],\n",
       "       [ 1.05595062e+00,  8.07031927e-01],\n",
       "       [-1.94311010e+00, -1.18976964e-01],\n",
       "       [-1.39604137e+00, -3.10095976e-01],\n",
       "       [ 1.28977624e+00,  1.01753365e+00],\n",
       "       [-1.59503139e+00, -5.40574609e-01],\n",
       "       [-1.41994046e+00, -3.81032569e-01],\n",
       "       [-2.35569801e-02, -1.10133702e+00],\n",
       "       [-1.26038568e+00, -6.93273886e-01],\n",
       "       [ 9.60215981e-01, -8.11553694e-01],\n",
       "       [ 5.51803308e-01, -1.01793176e+00],\n",
       "       [ 3.70185085e-01, -1.06885468e+00],\n",
       "       [ 8.25529207e-01,  8.77007060e-01],\n",
       "       [-1.87032595e+00,  2.87507199e-01],\n",
       "       [-1.56260769e+00, -1.89196712e-01],\n",
       "       [-1.26346548e+00, -7.74725237e-01],\n",
       "       [-6.33800421e-02, -7.59400611e-01],\n",
       "       [ 8.85298280e-01,  8.85620519e-01],\n",
       "       [-1.43324686e-01, -1.16083678e+00],\n",
       "       [-1.83908725e+00, -3.26655515e-01],\n",
       "       [ 2.74709229e-01, -1.04546829e+00],\n",
       "       [-1.45703573e+00, -2.91842036e-01],\n",
       "       [-1.59048842e+00,  1.66063031e-01],\n",
       "       [ 9.25549284e-01,  7.41406406e-01],\n",
       "       [ 1.97245469e-01, -7.80703225e-01],\n",
       "       [ 2.88401697e-01, -8.32425551e-01],\n",
       "       [ 7.24141618e-01, -7.99149200e-01],\n",
       "       [-1.62658639e+00, -1.80005543e-01],\n",
       "       [ 5.84481588e-01,  1.13195640e+00],\n",
       "       [ 1.02146732e+00,  4.59657799e-01],\n",
       "       [ 8.65050554e-01,  9.57714887e-01],\n",
       "       [ 3.98717766e-01, -1.24273147e+00],\n",
       "       [ 8.62234892e-01,  1.10955561e+00],\n",
       "       [-1.35999430e+00,  2.49942654e-02],\n",
       "       [-1.19178505e+00, -3.82946323e-02],\n",
       "       [ 1.29392424e+00,  1.10320509e+00],\n",
       "       [ 1.25679630e+00, -7.79857582e-01],\n",
       "       [ 9.38040302e-02, -5.53247258e-01],\n",
       "       [-1.73512175e+00, -9.76271667e-02],\n",
       "       [ 2.23153587e-01, -9.43474351e-01],\n",
       "       [ 4.01989100e-01, -1.10963051e+00],\n",
       "       [-1.42244158e+00,  1.81914703e-01],\n",
       "       [ 3.92476267e-01, -8.78426277e-01],\n",
       "       [ 1.25181875e+00,  6.93614996e-01],\n",
       "       [ 1.77481317e-02, -7.20304235e-01],\n",
       "       [-1.87752521e+00, -2.63870424e-01],\n",
       "       [-1.58063602e+00, -5.50456344e-01],\n",
       "       [-1.59589493e+00, -1.53932892e-01],\n",
       "       [-1.01829770e+00,  3.88542370e-02],\n",
       "       [ 1.24819659e+00,  6.60041803e-01],\n",
       "       [-1.25551377e+00, -2.96172009e-02],\n",
       "       [-1.41864559e+00, -3.58230179e-01],\n",
       "       [ 5.25758326e-01,  8.70500543e-01],\n",
       "       [ 5.55599988e-01,  1.18765072e+00],\n",
       "       [ 2.81344439e-02, -6.99111314e-01]])"
      ]
     },
     "execution_count": 26,
     "metadata": {},
     "output_type": "execute_result"
    }
   ],
   "source": [
    "new_points"
   ]
  },
  {
   "cell_type": "code",
   "execution_count": 24,
   "metadata": {},
   "outputs": [],
   "source": [
    "labels = model.predict(new_points)"
   ]
  },
  {
   "cell_type": "code",
   "execution_count": 25,
   "metadata": {},
   "outputs": [
    {
     "data": {
      "text/plain": [
       "array([2, 1, 0, 2, 1, 2, 1, 1, 1, 0, 2, 1, 1, 0, 0, 1, 0, 0, 1, 1, 0, 1,\n",
       "       2, 1, 2, 0, 1, 0, 0, 2, 2, 1, 1, 1, 0, 2, 1, 1, 2, 1, 0, 2, 2, 0,\n",
       "       2, 1, 0, 0, 1, 1, 1, 1, 0, 0, 2, 2, 0, 0, 0, 2, 2, 1, 1, 1, 2, 1,\n",
       "       0, 1, 2, 0, 2, 2, 2, 1, 2, 0, 0, 2, 1, 0, 2, 0, 2, 1, 0, 1, 0, 2,\n",
       "       1, 1, 1, 2, 1, 1, 2, 0, 0, 0, 0, 2, 1, 2, 0, 0, 2, 2, 1, 2, 0, 0,\n",
       "       2, 0, 0, 0, 1, 1, 1, 1, 0, 0, 1, 2, 1, 0, 1, 2, 0, 1, 0, 0, 1, 0,\n",
       "       1, 0, 2, 1, 2, 2, 1, 0, 2, 1, 2, 2, 0, 1, 1, 2, 0, 2, 0, 1, 2, 0,\n",
       "       0, 2, 0, 1, 1, 0, 1, 0, 0, 1, 1, 2, 1, 1, 0, 2, 0, 2, 2, 1, 2, 1,\n",
       "       1, 2, 2, 0, 2, 2, 2, 0, 1, 1, 2, 0, 2, 0, 0, 1, 1, 1, 2, 1, 1, 1,\n",
       "       0, 0, 2, 1, 2, 2, 2, 0, 1, 1, 1, 1, 1, 1, 0, 0, 1, 0, 0, 0, 0, 1,\n",
       "       0, 0, 1, 1, 2, 0, 2, 2, 0, 2, 0, 2, 0, 1, 1, 0, 1, 1, 1, 0, 2, 2,\n",
       "       0, 1, 1, 0, 1, 0, 0, 1, 0, 0, 2, 0, 2, 2, 2, 1, 0, 0, 0, 2, 1, 2,\n",
       "       0, 2, 0, 0, 1, 2, 2, 2, 0, 1, 1, 1, 2, 1, 0, 0, 1, 2, 2, 0, 2, 2,\n",
       "       0, 2, 1, 2, 0, 0, 0, 0, 1, 0, 0, 1, 1, 2])"
      ]
     },
     "execution_count": 25,
     "metadata": {},
     "output_type": "execute_result"
    }
   ],
   "source": [
    "labels"
   ]
  },
  {
   "cell_type": "code",
   "execution_count": 27,
   "metadata": {},
   "outputs": [],
   "source": [
    "xs = new_points[:, 0]\n",
    "ys = new_points[:, 1]"
   ]
  },
  {
   "cell_type": "code",
   "execution_count": 28,
   "metadata": {},
   "outputs": [
    {
     "data": {
      "image/png": "[encoded data removed]",
      "text/plain": [
       "<Figure size 432x288 with 1 Axes>"
      ]
     },
     "metadata": {
      "needs_background": "light"
     },
     "output_type": "display_data"
    }
   ],
   "source": [
    "plt.scatter(xs, ys, c = labels)\n",
    "plt.show()"
   ]
  },
  {
   "cell_type": "code",
   "execution_count": 29,
   "metadata": {},
   "outputs": [
    {
     "data": {
      "image/png": "[encoded data removed]",
      "text/plain": [
       "<Figure size 432x288 with 1 Axes>"
      ]
     },
     "metadata": {
      "needs_background": "light"
     },
     "output_type": "display_data"
    }
   ],
   "source": [
    "plt.scatter(xs, ys, c = labels)\n",
    "\n",
    "centroids = model.cluster_centers_\n",
    "\n",
    "cx = centroids[:,0]\n",
    "cy = centroids[:,1]\n",
    "plt.scatter(cx, cy, marker = 'D')\n",
    "plt.show()\n"
   ]
  },
  {
   "cell_type": "code",
   "execution_count": 30,
   "metadata": {},
   "outputs": [
    {
     "data": {
      "text/plain": [
       "array([[-1.57568905, -0.22531944],\n",
       "       [ 1.01603444,  0.98759874],\n",
       "       [ 0.18034887, -0.81701955]])"
      ]
     },
     "execution_count": 30,
     "metadata": {},
     "output_type": "execute_result"
    }
   ],
   "source": [
    "centroids = model.cluster_centers_\n",
    "centroids"
   ]
  },
  {
   "cell_type": "code",
   "execution_count": null,
   "metadata": {},
   "outputs": [],
   "source": []
  }
 ],
 "metadata": {
  "kernelspec": {
   "display_name": "Python 3",
   "language": "python",
   "name": "python3"
  },
  "language_info": {
   "codemirror_mode": {
    "name": "ipython",
    "version": 3
   },
   "file_extension": ".py",
   "mimetype": "text/x-python",
   "name": "python",
   "nbconvert_exporter": "python",
   "pygments_lexer": "ipython3",
   "version": "3.8.3"
  }
 },
 "nbformat": 4,
 "nbformat_minor": 4
}
