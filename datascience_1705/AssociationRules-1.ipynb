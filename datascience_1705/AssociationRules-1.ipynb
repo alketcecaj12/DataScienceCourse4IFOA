{
 "cells": [
  {
   "cell_type": "code",
   "execution_count": 1,
   "metadata": {},
   "outputs": [],
   "source": [
    "import pickle "
   ]
  },
  {
   "cell_type": "code",
   "execution_count": 2,
   "metadata": {},
   "outputs": [],
   "source": [
    "vendite = []\n",
    "with open(\"dati/vendite.txt\", \"rb\") as file: \n",
    "    vendite = pickle.load(file)"
   ]
  },
  {
   "cell_type": "code",
   "execution_count": 3,
   "metadata": {
    "scrolled": true
   },
   "outputs": [
    {
     "data": {
      "text/plain": [
       "[['bread', 'gum'],\n",
       " ['bread', 'gum'],\n",
       " ['cereal', 'gum'],\n",
       " ['coffee', 'gum'],\n",
       " ['bread', 'gum'],\n",
       " ['coffee', 'gum'],\n",
       " ['coffee', 'gum'],\n",
       " ['coffee', 'gum'],\n",
       " ['cereal', 'gum'],\n",
       " ['coffee', 'gum'],\n",
       " ['coffee', 'gum'],\n",
       " ['cereal', 'gum'],\n",
       " ['coffee', 'gum'],\n",
       " ['cereal', 'gum'],\n",
       " ['coffee', 'gum'],\n",
       " ['coffee', 'gum'],\n",
       " ['cereal', 'gum'],\n",
       " ['coffee', 'gum'],\n",
       " ['bread', 'gum'],\n",
       " ['cereal', 'gum'],\n",
       " ['bread', 'gum'],\n",
       " ['bread', 'gum'],\n",
       " ['coffee', 'gum'],\n",
       " ['coffee', 'gum'],\n",
       " ['bread', 'gum'],\n",
       " ['bread', 'gum'],\n",
       " ['coffee', 'gum'],\n",
       " ['coffee', 'gum'],\n",
       " ['cereal', 'gum'],\n",
       " ['cereal', 'gum'],\n",
       " ['coffee', 'gum'],\n",
       " ['coffee', 'gum'],\n",
       " ['coffee', 'gum'],\n",
       " ['cereal', 'gum'],\n",
       " ['bread', 'gum'],\n",
       " ['coffee', 'gum'],\n",
       " ['bread', 'gum'],\n",
       " ['coffee', 'gum'],\n",
       " ['cereal', 'gum'],\n",
       " ['bread', 'gum'],\n",
       " ['cereal', 'gum'],\n",
       " ['cereal', 'gum'],\n",
       " ['coffee', 'gum'],\n",
       " ['coffee', 'gum'],\n",
       " ['cereal', 'gum'],\n",
       " ['coffee', 'gum'],\n",
       " ['cereal', 'gum'],\n",
       " ['coffee', 'gum'],\n",
       " ['coffee', 'gum'],\n",
       " ['bread', 'gum'],\n",
       " ['cereal', 'gum'],\n",
       " ['bread', 'gum'],\n",
       " ['coffee', 'gum'],\n",
       " ['cereal', 'gum'],\n",
       " ['coffee', 'gum'],\n",
       " ['cereal', 'gum'],\n",
       " ['cereal', 'gum'],\n",
       " ['bread', 'gum'],\n",
       " ['bread', 'gum'],\n",
       " ['coffee', 'gum'],\n",
       " ['coffee', 'gum'],\n",
       " ['coffee', 'gum'],\n",
       " ['bread', 'gum'],\n",
       " ['cereal', 'gum'],\n",
       " ['cereal', 'gum'],\n",
       " ['coffee', 'gum'],\n",
       " ['bread', 'gum'],\n",
       " ['coffee', 'gum'],\n",
       " ['coffee', 'gum'],\n",
       " ['cereal', 'gum'],\n",
       " ['cereal', 'gum'],\n",
       " ['coffee', 'gum'],\n",
       " ['bread', 'gum'],\n",
       " ['coffee', 'gum'],\n",
       " ['cereal', 'gum'],\n",
       " ['coffee', 'gum'],\n",
       " ['cereal', 'gum'],\n",
       " ['cereal', 'gum'],\n",
       " ['coffee', 'gum'],\n",
       " ['coffee', 'gum'],\n",
       " ['bread', 'gum'],\n",
       " ['coffee', 'gum'],\n",
       " ['bread', 'gum'],\n",
       " ['coffee', 'gum'],\n",
       " ['coffee', 'gum']]"
      ]
     },
     "execution_count": 3,
     "metadata": {},
     "output_type": "execute_result"
    }
   ],
   "source": [
    "vendite"
   ]
  },
  {
   "cell_type": "code",
   "execution_count": 4,
   "metadata": {},
   "outputs": [],
   "source": [
    "pane = vendite.count(['bread', 'gum'])\n",
    "\n",
    "cereali = vendite.count(['cereal', 'gum'])\n",
    "\n",
    "caff = vendite.count(['coffee', 'gum'])"
   ]
  },
  {
   "cell_type": "code",
   "execution_count": 6,
   "metadata": {},
   "outputs": [
    {
     "name": "stdout",
     "output_type": "stream",
     "text": [
      "pane + chw =  20\n",
      "caffe + chw =  40\n",
      "cereali + chw =  25\n"
     ]
    }
   ],
   "source": [
    "print('pane + chw = ', pane )\n",
    "print('caffe + chw = ', caff )\n",
    "print('cereali + chw = ', cereali )"
   ]
  },
  {
   "cell_type": "code",
   "execution_count": null,
   "metadata": {},
   "outputs": [],
   "source": []
  }
 ],
 "metadata": {
  "kernelspec": {
   "display_name": "Python 3",
   "language": "python",
   "name": "python3"
  },
  "language_info": {
   "codemirror_mode": {
    "name": "ipython",
    "version": 3
   },
   "file_extension": ".py",
   "mimetype": "text/x-python",
   "name": "python",
   "nbconvert_exporter": "python",
   "pygments_lexer": "ipython3",
   "version": "3.8.3"
  }
 },
 "nbformat": 4,
 "nbformat_minor": 4
}
