{
 "cells": [
  {
   "cell_type": "code",
   "execution_count": 37,
   "metadata": {},
   "outputs": [],
   "source": [
    "from GoogleNews import GoogleNews"
   ]
  },
  {
   "cell_type": "code",
   "execution_count": 38,
   "metadata": {},
   "outputs": [],
   "source": [
    "gn = GoogleNews(\"it\")"
   ]
  },
  {
   "cell_type": "code",
   "execution_count": 39,
   "metadata": {},
   "outputs": [
    {
     "data": {
      "text/plain": [
       "GoogleNews.GoogleNews"
      ]
     },
     "execution_count": 39,
     "metadata": {},
     "output_type": "execute_result"
    }
   ],
   "source": [
    "type(gn)"
   ]
  },
  {
   "cell_type": "code",
   "execution_count": 40,
   "metadata": {},
   "outputs": [],
   "source": [
    "gn.search(\"Covid-19\")"
   ]
  },
  {
   "cell_type": "code",
   "execution_count": 45,
   "metadata": {
    "scrolled": true
   },
   "outputs": [],
   "source": [
    "risultato = gn.result()"
   ]
  },
  {
   "cell_type": "code",
   "execution_count": 47,
   "metadata": {},
   "outputs": [
    {
     "data": {
      "text/plain": [
       "dict"
      ]
     },
     "execution_count": 47,
     "metadata": {},
     "output_type": "execute_result"
    }
   ],
   "source": [
    "type(risultato[0])"
   ]
  },
  {
   "cell_type": "code",
   "execution_count": 48,
   "metadata": {
    "scrolled": true
   },
   "outputs": [
    {
     "data": {
      "text/plain": [
       "[{'title': 'Allarme in India per la mucormicosi, conseguenza del Covid-19',\n",
       "  'media': 'Rai News',\n",
       "  'date': '13 min fa',\n",
       "  'datetime': datetime.datetime(2021, 5, 10, 11, 26, 23, 997861),\n",
       "  'desc': \"Allarme in India per la mucormicosi, conseguenza del Covid-19. Numerosi casi dell'infezione fungina, che colpisce naso, palato, occhi, e può avere gravi ...\",\n",
       "  'link': 'https://www.rainews.it/dl/rainews/articoli/allarme-india-mucormicosi-conseguenza-covid-19-a04fb066-dd65-40b8-b347-605500555d66.html',\n",
       "  'img': 'data:image/gif;base64,R0lGODlhAQABAIAAAP///////yH5BAEKAAEALAAAAAABAAEAAAICTAEAOw=='},\n",
       " {'title': 'Covid-19, da oggi possibile prenotare vaccinazione per ...',\n",
       "  'media': 'StartNews',\n",
       "  'date': '17 min fa',\n",
       "  'datetime': datetime.datetime(2021, 5, 10, 11, 22, 24, 2865),\n",
       "  'desc': '... immunologica tali da aumentare il rischio di sviluppare forme severe di Covid-19 seppur senza quella connotazione di gravità riportata per le persone fragili.',\n",
       "  'link': 'http://www.start-news.it/2021/05/10/covid-19-da-oggi-possibile-prenotare-vaccinazione-per-soggetti-under-50-con-comorbilita/',\n",
       "  'img': 'data:image/gif;base64,R0lGODlhAQABAIAAAP///////yH5BAEKAAEALAAAAAABAAEAAAICTAEAOw=='},\n",
       " {'title': 'Bassa tecnologia contro il covid19: «diga di gomma è presidio ...',\n",
       "  'media': 'Italian Dental Journal',\n",
       "  'date': '48 min fa',\n",
       "  'datetime': datetime.datetime(2021, 5, 10, 10, 51, 24, 8866),\n",
       "  'desc': \"Già da tempo, con l'affermazione della conservativa adesiva, gli odontoiatri non prescindono dal suo utilizzo, ma con l'avvento del Covid19 non si tratta più ...\",\n",
       "  'link': 'http://www.dentaljournal.it/bassa-tecnologia-contro-covid19-diga-di-gomma-presidio-fondamentale/',\n",
       "  'img': 'data:image/gif;base64,R0lGODlhAQABAIAAAP///////yH5BAEKAAEALAAAAAABAAEAAAICTAEAOw=='},\n",
       " {'title': 'Castellammare - Covid-19, 27 nuovi positivi. Muore 86enne ...',\n",
       "  'media': 'Stabia Channel',\n",
       "  'date': '54 min fa',\n",
       "  'datetime': datetime.datetime(2021, 5, 10, 10, 45, 24, 14868),\n",
       "  'desc': 'Castellammare - Covid-19, 27 nuovi positivi. Muore 86enne. Sono stati lavorati complessivamente 593 tamponi per cui la percentuale dei nuovi positivi rispetto ai ...',\n",
       "  'link': 'https://www.stabiachannel.it/Cronaca/castellammare-covid-19-27-nuovi-positivi-muore-86enne/91346',\n",
       "  'img': 'data:image/gif;base64,R0lGODlhAQABAIAAAP///////yH5BAEKAAEALAAAAAABAAEAAAICTAEAOw=='},\n",
       " {'title': 'Covid-19: altre due vittime nel salernitano, nuovi contagi in 5 ...',\n",
       "  'media': 'SalernoToday',\n",
       "  'date': '57 min fa',\n",
       "  'datetime': datetime.datetime(2021, 5, 10, 10, 42, 24, 21867),\n",
       "  'desc': 'Ancora vittime del Covid-19, nel salernitano. A Fisciano, infatti, si è spenta una cittadina residente a Lancusi: \"Da parte mia e di tutta la comunità, sono vicino ...',\n",
       "  'link': 'https://www.salernotoday.it/cronaca/covid-contagi-decesso-fisciano-sammarco-ravello-contagi-angri-campagna-eboli-acerno-baronissi-10-maggio-2021.html',\n",
       "  'img': 'data:image/gif;base64,R0lGODlhAQABAIAAAP///////yH5BAEKAAEALAAAAAABAAEAAAICTAEAOw=='},\n",
       " {'title': 'Boscoreale - Covid-19, continuano a migliorare i numeri ...',\n",
       "  'media': 'Stabia Channel',\n",
       "  'date': '59 min fa',\n",
       "  'datetime': datetime.datetime(2021, 5, 10, 10, 40, 24, 28857),\n",
       "  'desc': 'Boscoreale - Covid-19, continuano a migliorare i numeri: somministrate 6184 dosi di vaccino. Gli attuali positivi sono diminuiti a 141. Indice di positività al 5,27 %.',\n",
       "  'link': 'https://www.stabiachannel.it/Cronaca/boscoreale-covid-19-continuano-a-migliorare-i-numeri-somministrate-6184-dosi-di-vaccino/91345',\n",
       "  'img': 'data:image/gif;base64,R0lGODlhAQABAIAAAP///////yH5BAEKAAEALAAAAAABAAEAAAICTAEAOw=='},\n",
       " {'title': 'Gli Usa e lo stop dei brevetti sui vaccini anti Covid-19: cosa ...',\n",
       "  'media': 'LifeGate',\n",
       "  'date': '1 ora fa',\n",
       "  'datetime': datetime.datetime(2021, 5, 10, 10, 39, 24, 32858),\n",
       "  'desc': 'A ottobre 2020 circa 40 paesi, guidati da India e Sudafrica, hanno quindi proposto di eliminare temporaneamente i brevetti registrati sui vaccini contro la Covid-19, ...',\n",
       "  'link': 'https://www.lifegate.it/usa-stop-brevetti-vaccini',\n",
       "  'img': 'data:image/gif;base64,R0lGODlhAQABAIAAAP///////yH5BAEKAAEALAAAAAABAAEAAAICTAEAOw=='},\n",
       " {'title': 'Covid-19: Amazon inizierà la vendita di un suo test?',\n",
       "  'media': 'Adriaeco',\n",
       "  'date': '1 ora fa',\n",
       "  'datetime': datetime.datetime(2021, 5, 10, 10, 39, 24, 35864),\n",
       "  'desc': 'Il tampone è stato creato dalla società STS Lab Holdco sulla scia di un altro test per il Covid-19 realizzato da BGI Genomics, società cinese leader mondiale nel ...',\n",
       "  'link': 'https://www.adriaeco.eu/2021/05/10/covid-19-amazon-iniziera-la-vendita-un-suo-test/',\n",
       "  'img': 'data:image/gif;base64,R0lGODlhAQABAIAAAP///////yH5BAEKAAEALAAAAAABAAEAAAICTAEAOw=='},\n",
       " {'title': 'COVID-19 / Nelle Marche 57 nuovi positivi, 34 in provincia di ...',\n",
       "  'media': 'QdM Notizie',\n",
       "  'date': '1 ora fa',\n",
       "  'datetime': datetime.datetime(2021, 5, 10, 10, 39, 24, 40864),\n",
       "  'desc': 'COVID-19 / Nelle Marche 57 nuovi positivi, 34 in provincia di Ancona. Aggiornamento del Servizio Sanità della Regione, contagi per il 10,7% del ...',\n",
       "  'link': 'https://www.qdmnotizie.it/covid-19-nelle-marche-57-nuovi-positivi-34-in-provincia-di-ancona/',\n",
       "  'img': 'data:image/gif;base64,R0lGODlhAQABAIAAAP///////yH5BAEKAAEALAAAAAABAAEAAAICTAEAOw=='},\n",
       " {'title': 'Covid-19. Due guarigioni a Spadafora. Sono 9 gli attuali positivi',\n",
       "  'media': '98zero',\n",
       "  'date': '1 ora fa',\n",
       "  'datetime': datetime.datetime(2021, 5, 10, 10, 39, 24, 43860),\n",
       "  'desc': \"Spadafora – “Finalmente due nostri concittadini risultano negativi al Covid-19”. L'annuncio è del sindaco di Spadafora, Tania Venuto. I casi ufficializzati di ...\",\n",
       "  'link': 'https://www.98zero.com/1432580-covid-19-due-guarigioni-a-spadafora-sono-9-gli-attuali-positivi',\n",
       "  'img': 'data:image/gif;base64,R0lGODlhAQABAIAAAP///////yH5BAEKAAEALAAAAAABAAEAAAICTAEAOw=='}]"
      ]
     },
     "execution_count": 48,
     "metadata": {},
     "output_type": "execute_result"
    }
   ],
   "source": [
    "risultato"
   ]
  },
  {
   "cell_type": "code",
   "execution_count": 49,
   "metadata": {},
   "outputs": [],
   "source": [
    "testo_notizie = gn.gettext()"
   ]
  },
  {
   "cell_type": "code",
   "execution_count": 50,
   "metadata": {},
   "outputs": [
    {
     "data": {
      "text/plain": [
       "['Allarme in India per la mucormicosi, conseguenza del Covid-19',\n",
       " 'Covid-19, da oggi possibile prenotare vaccinazione per ...',\n",
       " 'Bassa tecnologia contro il covid19: «diga di gomma è presidio ...',\n",
       " 'Castellammare - Covid-19, 27 nuovi positivi. Muore 86enne ...',\n",
       " 'Covid-19: altre due vittime nel salernitano, nuovi contagi in 5 ...',\n",
       " 'Boscoreale - Covid-19, continuano a migliorare i numeri ...',\n",
       " 'Gli Usa e lo stop dei brevetti sui vaccini anti Covid-19: cosa ...',\n",
       " 'Covid-19: Amazon inizierà la vendita di un suo test?',\n",
       " 'COVID-19 / Nelle Marche 57 nuovi positivi, 34 in provincia di ...',\n",
       " 'Covid-19. Due guarigioni a Spadafora. Sono 9 gli attuali positivi']"
      ]
     },
     "execution_count": 50,
     "metadata": {},
     "output_type": "execute_result"
    }
   ],
   "source": [
    "testo_notizie"
   ]
  },
  {
   "cell_type": "code",
   "execution_count": 51,
   "metadata": {},
   "outputs": [
    {
     "data": {
      "text/plain": [
       "['https://www.rainews.it/dl/rainews/articoli/allarme-india-mucormicosi-conseguenza-covid-19-a04fb066-dd65-40b8-b347-605500555d66.html',\n",
       " 'http://www.start-news.it/2021/05/10/covid-19-da-oggi-possibile-prenotare-vaccinazione-per-soggetti-under-50-con-comorbilita/',\n",
       " 'http://www.dentaljournal.it/bassa-tecnologia-contro-covid19-diga-di-gomma-presidio-fondamentale/',\n",
       " 'https://www.stabiachannel.it/Cronaca/castellammare-covid-19-27-nuovi-positivi-muore-86enne/91346',\n",
       " 'https://www.salernotoday.it/cronaca/covid-contagi-decesso-fisciano-sammarco-ravello-contagi-angri-campagna-eboli-acerno-baronissi-10-maggio-2021.html',\n",
       " 'https://www.stabiachannel.it/Cronaca/boscoreale-covid-19-continuano-a-migliorare-i-numeri-somministrate-6184-dosi-di-vaccino/91345',\n",
       " 'https://www.lifegate.it/usa-stop-brevetti-vaccini',\n",
       " 'https://www.adriaeco.eu/2021/05/10/covid-19-amazon-iniziera-la-vendita-un-suo-test/',\n",
       " 'https://www.qdmnotizie.it/covid-19-nelle-marche-57-nuovi-positivi-34-in-provincia-di-ancona/',\n",
       " 'https://www.98zero.com/1432580-covid-19-due-guarigioni-a-spadafora-sono-9-gli-attuali-positivi']"
      ]
     },
     "execution_count": 51,
     "metadata": {},
     "output_type": "execute_result"
    }
   ],
   "source": [
    "links = gn.get_links()\n",
    "links"
   ]
  },
  {
   "cell_type": "code",
   "execution_count": 58,
   "metadata": {},
   "outputs": [
    {
     "data": {
      "text/plain": [
       "{'Allarme in India per la mucormicosi, conseguenza del Covid-19': 'https://www.rainews.it/dl/rainews/articoli/allarme-india-mucormicosi-conseguenza-covid-19-a04fb066-dd65-40b8-b347-605500555d66.html',\n",
       " 'Covid-19, da oggi possibile prenotare vaccinazione per ...': 'http://www.start-news.it/2021/05/10/covid-19-da-oggi-possibile-prenotare-vaccinazione-per-soggetti-under-50-con-comorbilita/',\n",
       " 'Bassa tecnologia contro il covid19: «diga di gomma è presidio ...': 'http://www.dentaljournal.it/bassa-tecnologia-contro-covid19-diga-di-gomma-presidio-fondamentale/',\n",
       " 'Castellammare - Covid-19, 27 nuovi positivi. Muore 86enne ...': 'https://www.stabiachannel.it/Cronaca/castellammare-covid-19-27-nuovi-positivi-muore-86enne/91346',\n",
       " 'Covid-19: altre due vittime nel salernitano, nuovi contagi in 5 ...': 'https://www.salernotoday.it/cronaca/covid-contagi-decesso-fisciano-sammarco-ravello-contagi-angri-campagna-eboli-acerno-baronissi-10-maggio-2021.html',\n",
       " 'Boscoreale - Covid-19, continuano a migliorare i numeri ...': 'https://www.stabiachannel.it/Cronaca/boscoreale-covid-19-continuano-a-migliorare-i-numeri-somministrate-6184-dosi-di-vaccino/91345',\n",
       " 'Gli Usa e lo stop dei brevetti sui vaccini anti Covid-19: cosa ...': 'https://www.lifegate.it/usa-stop-brevetti-vaccini',\n",
       " 'Covid-19: Amazon inizierà la vendita di un suo test?': 'https://www.adriaeco.eu/2021/05/10/covid-19-amazon-iniziera-la-vendita-un-suo-test/',\n",
       " 'COVID-19 / Nelle Marche 57 nuovi positivi, 34 in provincia di ...': 'https://www.qdmnotizie.it/covid-19-nelle-marche-57-nuovi-positivi-34-in-provincia-di-ancona/',\n",
       " 'Covid-19. Due guarigioni a Spadafora. Sono 9 gli attuali positivi': 'https://www.98zero.com/1432580-covid-19-due-guarigioni-a-spadafora-sono-9-gli-attuali-positivi'}"
      ]
     },
     "execution_count": 58,
     "metadata": {},
     "output_type": "execute_result"
    }
   ],
   "source": [
    "notizie_link = {}\n",
    "index = 0\n",
    "for i in testo_notizie: \n",
    "    titolo_i = testo_notizie[index]\n",
    "    link_i = links[index]\n",
    "    notizie_link[titolo_i] = link_i\n",
    "    index += 1\n",
    "   \n",
    "\n",
    "\n",
    "notizie_link"
   ]
  },
  {
   "cell_type": "code",
   "execution_count": 60,
   "metadata": {},
   "outputs": [],
   "source": [
    "with open(\"notizie_Covid-19.csv\", \"w\") as file: \n",
    "    for k, v in notizie_link.items(): \n",
    "        riga = str(k)+\", \"+str(v)+ \"\\n\"\n",
    "        file.write(riga)\n",
    "                                  "
   ]
  },
  {
   "cell_type": "code",
   "execution_count": 61,
   "metadata": {},
   "outputs": [],
   "source": [
    "import os "
   ]
  },
  {
   "cell_type": "code",
   "execution_count": 62,
   "metadata": {},
   "outputs": [],
   "source": [
    "cartella = os.getcwd()"
   ]
  },
  {
   "cell_type": "code",
   "execution_count": 63,
   "metadata": {},
   "outputs": [
    {
     "data": {
      "text/plain": [
       "'C:\\\\Users\\\\alket\\\\datascience_1005'"
      ]
     },
     "execution_count": 63,
     "metadata": {},
     "output_type": "execute_result"
    }
   ],
   "source": [
    "cartella"
   ]
  },
  {
   "cell_type": "code",
   "execution_count": null,
   "metadata": {},
   "outputs": [],
   "source": []
  }
 ],
 "metadata": {
  "kernelspec": {
   "display_name": "Python 3",
   "language": "python",
   "name": "python3"
  },
  "language_info": {
   "codemirror_mode": {
    "name": "ipython",
    "version": 3
   },
   "file_extension": ".py",
   "mimetype": "text/x-python",
   "name": "python",
   "nbconvert_exporter": "python",
   "pygments_lexer": "ipython3",
   "version": "3.8.3"
  }
 },
 "nbformat": 4,
 "nbformat_minor": 4
}
